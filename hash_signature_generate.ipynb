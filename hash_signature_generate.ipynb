{
 "cells": [
  {
   "cell_type": "code",
   "execution_count": 3,
   "metadata": {},
   "outputs": [
    {
     "name": "stdout",
     "output_type": "stream",
     "text": [
      "1\n",
      "message: b6d8d05c2b97d08927dbdb647e8a15f91846104ad1d34be5fa138cb7e3cbde06\n",
      "r: 2ad5e3fdc18939c174cfb07e0af9b246c6224318b06093699d156dd59d4ecdec\n",
      "s: 71f72ba5934bf833477bd07036999e4335d10be47721b15d6f560388a91debe9\n",
      "SIGNATURE VERIFIED\n"
     ]
    }
   ],
   "source": [
    "import math\n",
    "import ecdsa\n",
    "import ecdsa.ellipticcurve as EC\n",
    "\n",
    "def inv_mod_p(x, p):\n",
    "    if 1 != math.gcd(x, p):\n",
    "        raise ValueError(\"Arguments not prime\")\n",
    "    q11 = 1\n",
    "    q22 = 1\n",
    "    q12 = 0\n",
    "    q21 = 0\n",
    "    while p != 0:\n",
    "        temp = p\n",
    "        q = x // p\n",
    "        p = x % p\n",
    "        x = temp\n",
    "        t21 = q21\n",
    "        t22 = q22\n",
    "        q21 = q11 - q*q21\n",
    "        q22 = q12 - q*q22\n",
    "        q11 = t21\n",
    "        q12 = t22\n",
    "    return q11\n",
    "\n",
    "curve = ecdsa.SECP256k1\n",
    "G = curve.generator\n",
    "n = G.order()\n",
    "\n",
    "## point represented by the public key\n",
    "## 0x0429a272134c84cd93c1520a85007c2a0e38e80d0f312266b88089c17b61c48101b0257964abfb5640adc754419df69b142f773cb3687fe6a1601b3f07c71904b2\n",
    "x = int('29a272134c84cd93c1520a85007c2a0e38e80d0f312266b88089c17b61c48101', 16)\n",
    "y = int('b0257964abfb5640adc754419df69b142f773cb3687fe6a1601b3f07c71904b2', 16)\n",
    "Q = EC.Point(curve.curve, x, y)\n",
    "pubkey = ecdsa.VerifyingKey.from_public_point(Q, curve)\n",
    "\n",
    "# get a random x oordinate within the order of the curve\n",
    "a = ecdsa.util.randrange(n-1)\n",
    "\n",
    "# now see if a random b has a relationship with the a\n",
    "valid_s = False\n",
    "while not valid_s:\n",
    "    b = ecdsa.util.randrange(n-1)\n",
    "    b_inv = inv_mod_p(b, n)\n",
    "    \n",
    "    K = (a*G) + (b*Q)  ##\"recover\" a potential point\n",
    "    r = K.x() % n      ##the x ordinate of the point \n",
    "    \n",
    "    s = r * b_inv % n  ##the \"s\" of the signature\n",
    "\n",
    "    if 0 < s < n:\n",
    "        valid_s = True ##the \"s\" derived from r is good\n",
    "\n",
    "m = (((a * r) % n) * b_inv) % n   #message hash implied by the r\n",
    "\n",
    "message_bytes32 = format(m, '064x')\n",
    "r_bytes32 = format(r, '064x')\n",
    "s_bytes32 = format(s, '064x')\n",
    "\n",
    "print(\"message: \" + message_bytes32)\n",
    "print(\"r: \" + r_bytes32)\n",
    "print(\"s: \" + s_bytes32)\n",
    "\n",
    "sig = ecdsa.ecdsa.Signature(r, s)\n",
    "if pubkey.pubkey.verifies(m, sig):\n",
    "    print(\"SIGNATURE VERIFIED\")\n",
    "else:\n",
    "    print(\"FAILED TO VERIFY\")"
   ]
  },
  {
   "cell_type": "code",
   "execution_count": 2,
   "metadata": {},
   "outputs": [
    {
     "data": {
      "text/plain": [
       "130"
      ]
     },
     "execution_count": 2,
     "metadata": {},
     "output_type": "execute_result"
    }
   ],
   "source": [
    "len('0429a272134c84cd93c1520a85007c2a0e38e80d0f312266b88089c17b61c48101b0257964abfb5640adc754419df69b142f773cb3687fe6a1601b3f07c71904b2')"
   ]
  },
  {
   "cell_type": "code",
   "execution_count": null,
   "metadata": {},
   "outputs": [],
   "source": []
  },
  {
   "cell_type": "code",
   "execution_count": null,
   "metadata": {},
   "outputs": [],
   "source": []
  },
  {
   "cell_type": "code",
   "execution_count": null,
   "metadata": {},
   "outputs": [],
   "source": []
  },
  {
   "cell_type": "code",
   "execution_count": null,
   "metadata": {},
   "outputs": [],
   "source": []
  }
 ],
 "metadata": {
  "kernelspec": {
   "display_name": "Python 3",
   "language": "python",
   "name": "python3"
  },
  "language_info": {
   "codemirror_mode": {
    "name": "ipython",
    "version": 3
   },
   "file_extension": ".py",
   "mimetype": "text/x-python",
   "name": "python",
   "nbconvert_exporter": "python",
   "pygments_lexer": "ipython3",
   "version": "3.7.4"
  }
 },
 "nbformat": 4,
 "nbformat_minor": 2
}
